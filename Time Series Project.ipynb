{
 "cells": [
  {
   "cell_type": "code",
   "execution_count": 1,
   "id": "8689db12",
   "metadata": {},
   "outputs": [],
   "source": [
    "# Imorting necessary library"
   ]
  },
  {
   "cell_type": "code",
   "execution_count": 2,
   "id": "e84786da",
   "metadata": {},
   "outputs": [],
   "source": [
    "import numpy as np\n",
    "import pandas as pd\n",
    "import matplotlib.pyplot as plt"
   ]
  },
  {
   "cell_type": "code",
   "execution_count": 3,
   "id": "ad848495",
   "metadata": {},
   "outputs": [
    {
     "data": {
      "text/html": [
       "<div>\n",
       "<style scoped>\n",
       "    .dataframe tbody tr th:only-of-type {\n",
       "        vertical-align: middle;\n",
       "    }\n",
       "\n",
       "    .dataframe tbody tr th {\n",
       "        vertical-align: top;\n",
       "    }\n",
       "\n",
       "    .dataframe thead th {\n",
       "        text-align: right;\n",
       "    }\n",
       "</style>\n",
       "<table border=\"1\" class=\"dataframe\">\n",
       "  <thead>\n",
       "    <tr style=\"text-align: right;\">\n",
       "      <th></th>\n",
       "      <th>Month</th>\n",
       "      <th>Perrin Freres monthly champagne sales millions ?64-?72</th>\n",
       "    </tr>\n",
       "  </thead>\n",
       "  <tbody>\n",
       "    <tr>\n",
       "      <th>0</th>\n",
       "      <td>1964-01</td>\n",
       "      <td>2815</td>\n",
       "    </tr>\n",
       "    <tr>\n",
       "      <th>1</th>\n",
       "      <td>1964-02</td>\n",
       "      <td>2672</td>\n",
       "    </tr>\n",
       "    <tr>\n",
       "      <th>2</th>\n",
       "      <td>1964-03</td>\n",
       "      <td>2755</td>\n",
       "    </tr>\n",
       "    <tr>\n",
       "      <th>3</th>\n",
       "      <td>1964-04</td>\n",
       "      <td>2721</td>\n",
       "    </tr>\n",
       "    <tr>\n",
       "      <th>4</th>\n",
       "      <td>1964-05</td>\n",
       "      <td>2946</td>\n",
       "    </tr>\n",
       "  </tbody>\n",
       "</table>\n",
       "</div>"
      ],
      "text/plain": [
       "     Month  Perrin Freres monthly champagne sales millions ?64-?72\n",
       "0  1964-01                                               2815     \n",
       "1  1964-02                                               2672     \n",
       "2  1964-03                                               2755     \n",
       "3  1964-04                                               2721     \n",
       "4  1964-05                                               2946     "
      ]
     },
     "execution_count": 3,
     "metadata": {},
     "output_type": "execute_result"
    }
   ],
   "source": [
    "df=pd.read_csv(\"C:/Users/Admin/Desktop/Time Series Data.csv\")\n",
    "df.head()"
   ]
  },
  {
   "cell_type": "code",
   "execution_count": 4,
   "id": "b1612aa7",
   "metadata": {},
   "outputs": [],
   "source": [
    "df.columns=[\"Month\",\"Sale\"]"
   ]
  },
  {
   "cell_type": "code",
   "execution_count": 5,
   "id": "445662dd",
   "metadata": {},
   "outputs": [
    {
     "data": {
      "text/html": [
       "<div>\n",
       "<style scoped>\n",
       "    .dataframe tbody tr th:only-of-type {\n",
       "        vertical-align: middle;\n",
       "    }\n",
       "\n",
       "    .dataframe tbody tr th {\n",
       "        vertical-align: top;\n",
       "    }\n",
       "\n",
       "    .dataframe thead th {\n",
       "        text-align: right;\n",
       "    }\n",
       "</style>\n",
       "<table border=\"1\" class=\"dataframe\">\n",
       "  <thead>\n",
       "    <tr style=\"text-align: right;\">\n",
       "      <th></th>\n",
       "      <th>Month</th>\n",
       "      <th>Sale</th>\n",
       "    </tr>\n",
       "  </thead>\n",
       "  <tbody>\n",
       "    <tr>\n",
       "      <th>0</th>\n",
       "      <td>1964-01</td>\n",
       "      <td>2815</td>\n",
       "    </tr>\n",
       "    <tr>\n",
       "      <th>1</th>\n",
       "      <td>1964-02</td>\n",
       "      <td>2672</td>\n",
       "    </tr>\n",
       "    <tr>\n",
       "      <th>2</th>\n",
       "      <td>1964-03</td>\n",
       "      <td>2755</td>\n",
       "    </tr>\n",
       "    <tr>\n",
       "      <th>3</th>\n",
       "      <td>1964-04</td>\n",
       "      <td>2721</td>\n",
       "    </tr>\n",
       "    <tr>\n",
       "      <th>4</th>\n",
       "      <td>1964-05</td>\n",
       "      <td>2946</td>\n",
       "    </tr>\n",
       "  </tbody>\n",
       "</table>\n",
       "</div>"
      ],
      "text/plain": [
       "     Month  Sale\n",
       "0  1964-01  2815\n",
       "1  1964-02  2672\n",
       "2  1964-03  2755\n",
       "3  1964-04  2721\n",
       "4  1964-05  2946"
      ]
     },
     "execution_count": 5,
     "metadata": {},
     "output_type": "execute_result"
    }
   ],
   "source": [
    "df.head()"
   ]
  },
  {
   "cell_type": "code",
   "execution_count": 6,
   "id": "7c374ef4",
   "metadata": {},
   "outputs": [
    {
     "data": {
      "text/plain": [
       "(105, 2)"
      ]
     },
     "execution_count": 6,
     "metadata": {},
     "output_type": "execute_result"
    }
   ],
   "source": [
    "df.shape"
   ]
  },
  {
   "cell_type": "code",
   "execution_count": 7,
   "id": "061585fd",
   "metadata": {},
   "outputs": [],
   "source": [
    " #converting data type to date time format"
   ]
  },
  {
   "cell_type": "code",
   "execution_count": 8,
   "id": "e930b6c7",
   "metadata": {},
   "outputs": [],
   "source": [
    "df[\"Month\"]=pd.to_datetime(df[\"Month\"])"
   ]
  },
  {
   "cell_type": "code",
   "execution_count": 9,
   "id": "4e7f1777",
   "metadata": {},
   "outputs": [
    {
     "data": {
      "text/html": [
       "<div>\n",
       "<style scoped>\n",
       "    .dataframe tbody tr th:only-of-type {\n",
       "        vertical-align: middle;\n",
       "    }\n",
       "\n",
       "    .dataframe tbody tr th {\n",
       "        vertical-align: top;\n",
       "    }\n",
       "\n",
       "    .dataframe thead th {\n",
       "        text-align: right;\n",
       "    }\n",
       "</style>\n",
       "<table border=\"1\" class=\"dataframe\">\n",
       "  <thead>\n",
       "    <tr style=\"text-align: right;\">\n",
       "      <th></th>\n",
       "      <th>Month</th>\n",
       "      <th>Sale</th>\n",
       "    </tr>\n",
       "  </thead>\n",
       "  <tbody>\n",
       "    <tr>\n",
       "      <th>0</th>\n",
       "      <td>1964-01-01</td>\n",
       "      <td>2815</td>\n",
       "    </tr>\n",
       "    <tr>\n",
       "      <th>1</th>\n",
       "      <td>1964-02-01</td>\n",
       "      <td>2672</td>\n",
       "    </tr>\n",
       "    <tr>\n",
       "      <th>2</th>\n",
       "      <td>1964-03-01</td>\n",
       "      <td>2755</td>\n",
       "    </tr>\n",
       "    <tr>\n",
       "      <th>3</th>\n",
       "      <td>1964-04-01</td>\n",
       "      <td>2721</td>\n",
       "    </tr>\n",
       "    <tr>\n",
       "      <th>4</th>\n",
       "      <td>1964-05-01</td>\n",
       "      <td>2946</td>\n",
       "    </tr>\n",
       "  </tbody>\n",
       "</table>\n",
       "</div>"
      ],
      "text/plain": [
       "       Month  Sale\n",
       "0 1964-01-01  2815\n",
       "1 1964-02-01  2672\n",
       "2 1964-03-01  2755\n",
       "3 1964-04-01  2721\n",
       "4 1964-05-01  2946"
      ]
     },
     "execution_count": 9,
     "metadata": {},
     "output_type": "execute_result"
    }
   ],
   "source": [
    "df.head()"
   ]
  },
  {
   "cell_type": "code",
   "execution_count": 10,
   "id": "465d91a0",
   "metadata": {},
   "outputs": [
    {
     "data": {
      "text/plain": [
       "Month    datetime64[ns]\n",
       "Sale              int64\n",
       "dtype: object"
      ]
     },
     "execution_count": 10,
     "metadata": {},
     "output_type": "execute_result"
    }
   ],
   "source": [
    "df.dtypes"
   ]
  },
  {
   "cell_type": "code",
   "execution_count": 11,
   "id": "29e3e0df",
   "metadata": {},
   "outputs": [
    {
     "data": {
      "text/html": [
       "<div>\n",
       "<style scoped>\n",
       "    .dataframe tbody tr th:only-of-type {\n",
       "        vertical-align: middle;\n",
       "    }\n",
       "\n",
       "    .dataframe tbody tr th {\n",
       "        vertical-align: top;\n",
       "    }\n",
       "\n",
       "    .dataframe thead th {\n",
       "        text-align: right;\n",
       "    }\n",
       "</style>\n",
       "<table border=\"1\" class=\"dataframe\">\n",
       "  <thead>\n",
       "    <tr style=\"text-align: right;\">\n",
       "      <th></th>\n",
       "      <th>Sale</th>\n",
       "    </tr>\n",
       "    <tr>\n",
       "      <th>Month</th>\n",
       "      <th></th>\n",
       "    </tr>\n",
       "  </thead>\n",
       "  <tbody>\n",
       "    <tr>\n",
       "      <th>1964-01-01</th>\n",
       "      <td>2815</td>\n",
       "    </tr>\n",
       "    <tr>\n",
       "      <th>1964-02-01</th>\n",
       "      <td>2672</td>\n",
       "    </tr>\n",
       "    <tr>\n",
       "      <th>1964-03-01</th>\n",
       "      <td>2755</td>\n",
       "    </tr>\n",
       "    <tr>\n",
       "      <th>1964-04-01</th>\n",
       "      <td>2721</td>\n",
       "    </tr>\n",
       "    <tr>\n",
       "      <th>1964-05-01</th>\n",
       "      <td>2946</td>\n",
       "    </tr>\n",
       "  </tbody>\n",
       "</table>\n",
       "</div>"
      ],
      "text/plain": [
       "            Sale\n",
       "Month           \n",
       "1964-01-01  2815\n",
       "1964-02-01  2672\n",
       "1964-03-01  2755\n",
       "1964-04-01  2721\n",
       "1964-05-01  2946"
      ]
     },
     "execution_count": 11,
     "metadata": {},
     "output_type": "execute_result"
    }
   ],
   "source": [
    "df.set_index('Month',inplace=True)\n",
    "df.head()"
   ]
  },
  {
   "cell_type": "code",
   "execution_count": 12,
   "id": "8297fc70",
   "metadata": {},
   "outputs": [
    {
     "data": {
      "text/plain": [
       "Sale    int64\n",
       "dtype: object"
      ]
     },
     "execution_count": 12,
     "metadata": {},
     "output_type": "execute_result"
    }
   ],
   "source": [
    "df.dtypes"
   ]
  },
  {
   "cell_type": "code",
   "execution_count": 13,
   "id": "3b55736f",
   "metadata": {},
   "outputs": [],
   "source": [
    "#checking wheather time series is stationry or not"
   ]
  },
  {
   "cell_type": "code",
   "execution_count": 14,
   "id": "8dda137e",
   "metadata": {},
   "outputs": [
    {
     "data": {
      "text/plain": [
       "<AxesSubplot:xlabel='Month'>"
      ]
     },
     "execution_count": 14,
     "metadata": {},
     "output_type": "execute_result"
    },
    {
     "data": {
      "image/png": "[encoded data removed]",
      "text/plain": [
       "<Figure size 432x288 with 1 Axes>"
      ]
     },
     "metadata": {
      "needs_background": "light"
     },
     "output_type": "display_data"
    }
   ],
   "source": [
    "df.plot()"
   ]
  },
  {
   "cell_type": "code",
   "execution_count": 15,
   "id": "2f3fc725",
   "metadata": {},
   "outputs": [],
   "source": [
    "#Seasonality=2\n",
    "#at the end of each year the sales is increasing"
   ]
  },
  {
   "cell_type": "code",
   "execution_count": 16,
   "id": "e1f44365",
   "metadata": {},
   "outputs": [],
   "source": [
    "#point of analysis(POA)\n",
    "#1. the time series is not stationary\n",
    "#2. we observed seanality twice\n",
    "#2.1 It fall in mid of the year\n",
    "#2.2 It rise toward end of the year\n",
    "#3. We see that there is autocorrelation in the data\n"
   ]
  },
  {
   "cell_type": "code",
   "execution_count": 17,
   "id": "375551d8",
   "metadata": {},
   "outputs": [],
   "source": [
    "#to find and validate if the data is non stationary or not we run AD-fuller Test"
   ]
  },
  {
   "cell_type": "code",
   "execution_count": 18,
   "id": "e5040f3b",
   "metadata": {},
   "outputs": [],
   "source": [
    "from statsmodels.tsa.stattools import adfuller"
   ]
  },
  {
   "cell_type": "code",
   "execution_count": 19,
   "id": "08712d4b",
   "metadata": {},
   "outputs": [],
   "source": [
    "ad1=adfuller(df[\"Sale\"])"
   ]
  },
  {
   "cell_type": "code",
   "execution_count": 20,
   "id": "e1fa6206",
   "metadata": {},
   "outputs": [
    {
     "data": {
      "text/plain": [
       "(-1.8335930563276237,\n",
       " 0.3639157716602447,\n",
       " 11,\n",
       " 93,\n",
       " {'1%': -3.502704609582561,\n",
       "  '5%': -2.8931578098779522,\n",
       "  '10%': -2.583636712914788},\n",
       " 1478.4633060594724)"
      ]
     },
     "execution_count": 20,
     "metadata": {},
     "output_type": "execute_result"
    }
   ],
   "source": [
    "ad1"
   ]
  },
  {
   "cell_type": "code",
   "execution_count": 21,
   "id": "8e28fa8b",
   "metadata": {},
   "outputs": [],
   "source": [
    "# we only see first four values\n",
    "#first value is ADF test statistics\n",
    "#second value is P value\n",
    "#third value is seasonality\n",
    "#forth value is no. of records without lags"
   ]
  },
  {
   "cell_type": "code",
   "execution_count": 22,
   "id": "ba7a30ca",
   "metadata": {},
   "outputs": [],
   "source": [
    "# We dont rely on ADF Test statistics\n",
    "#beacuse its calculated by some mathematical formula\n",
    "# 2nd, 3rd and 4th values are importtant for us"
   ]
  },
  {
   "cell_type": "code",
   "execution_count": 23,
   "id": "0428b451",
   "metadata": {},
   "outputs": [],
   "source": [
    "#hypothesis of ADF Test\n",
    "#null hypothesis H0= the data is non stationary\n",
    "#alternative hypothesis Ha= the data is stationary\n"
   ]
  },
  {
   "cell_type": "code",
   "execution_count": 24,
   "id": "47a6feff",
   "metadata": {},
   "outputs": [],
   "source": [
    "# if p value is greater than alpha (0.05),then we accept null hypothesis"
   ]
  },
  {
   "cell_type": "code",
   "execution_count": 25,
   "id": "7255770a",
   "metadata": {},
   "outputs": [],
   "source": [
    "#In order to make stationary, taking 1st order diff"
   ]
  },
  {
   "cell_type": "code",
   "execution_count": 26,
   "id": "efea93a1",
   "metadata": {},
   "outputs": [],
   "source": [
    "df['First_diff']=df[\"Sale\"].shift(1)-df[\"Sale\"]"
   ]
  },
  {
   "cell_type": "code",
   "execution_count": 27,
   "id": "1b47594a",
   "metadata": {},
   "outputs": [
    {
     "data": {
      "text/html": [
       "<div>\n",
       "<style scoped>\n",
       "    .dataframe tbody tr th:only-of-type {\n",
       "        vertical-align: middle;\n",
       "    }\n",
       "\n",
       "    .dataframe tbody tr th {\n",
       "        vertical-align: top;\n",
       "    }\n",
       "\n",
       "    .dataframe thead th {\n",
       "        text-align: right;\n",
       "    }\n",
       "</style>\n",
       "<table border=\"1\" class=\"dataframe\">\n",
       "  <thead>\n",
       "    <tr style=\"text-align: right;\">\n",
       "      <th></th>\n",
       "      <th>Sale</th>\n",
       "      <th>First_diff</th>\n",
       "    </tr>\n",
       "    <tr>\n",
       "      <th>Month</th>\n",
       "      <th></th>\n",
       "      <th></th>\n",
       "    </tr>\n",
       "  </thead>\n",
       "  <tbody>\n",
       "    <tr>\n",
       "      <th>1964-01-01</th>\n",
       "      <td>2815</td>\n",
       "      <td>NaN</td>\n",
       "    </tr>\n",
       "    <tr>\n",
       "      <th>1964-02-01</th>\n",
       "      <td>2672</td>\n",
       "      <td>143.0</td>\n",
       "    </tr>\n",
       "    <tr>\n",
       "      <th>1964-03-01</th>\n",
       "      <td>2755</td>\n",
       "      <td>-83.0</td>\n",
       "    </tr>\n",
       "    <tr>\n",
       "      <th>1964-04-01</th>\n",
       "      <td>2721</td>\n",
       "      <td>34.0</td>\n",
       "    </tr>\n",
       "    <tr>\n",
       "      <th>1964-05-01</th>\n",
       "      <td>2946</td>\n",
       "      <td>-225.0</td>\n",
       "    </tr>\n",
       "    <tr>\n",
       "      <th>1964-06-01</th>\n",
       "      <td>3036</td>\n",
       "      <td>-90.0</td>\n",
       "    </tr>\n",
       "    <tr>\n",
       "      <th>1964-07-01</th>\n",
       "      <td>2282</td>\n",
       "      <td>754.0</td>\n",
       "    </tr>\n",
       "    <tr>\n",
       "      <th>1964-08-01</th>\n",
       "      <td>2212</td>\n",
       "      <td>70.0</td>\n",
       "    </tr>\n",
       "    <tr>\n",
       "      <th>1964-09-01</th>\n",
       "      <td>2922</td>\n",
       "      <td>-710.0</td>\n",
       "    </tr>\n",
       "    <tr>\n",
       "      <th>1964-10-01</th>\n",
       "      <td>4301</td>\n",
       "      <td>-1379.0</td>\n",
       "    </tr>\n",
       "  </tbody>\n",
       "</table>\n",
       "</div>"
      ],
      "text/plain": [
       "            Sale  First_diff\n",
       "Month                       \n",
       "1964-01-01  2815         NaN\n",
       "1964-02-01  2672       143.0\n",
       "1964-03-01  2755       -83.0\n",
       "1964-04-01  2721        34.0\n",
       "1964-05-01  2946      -225.0\n",
       "1964-06-01  3036       -90.0\n",
       "1964-07-01  2282       754.0\n",
       "1964-08-01  2212        70.0\n",
       "1964-09-01  2922      -710.0\n",
       "1964-10-01  4301     -1379.0"
      ]
     },
     "execution_count": 27,
     "metadata": {},
     "output_type": "execute_result"
    }
   ],
   "source": [
    "df.head(10)"
   ]
  },
  {
   "cell_type": "code",
   "execution_count": 28,
   "id": "fa0a133d",
   "metadata": {},
   "outputs": [
    {
     "data": {
      "text/plain": [
       "<AxesSubplot:xlabel='Month'>"
      ]
     },
     "execution_count": 28,
     "metadata": {},
     "output_type": "execute_result"
    },
    {
     "data": {
      "image/png": "[encoded data removed]",
      "text/plain": [
       "<Figure size 432x288 with 1 Axes>"
      ]
     },
     "metadata": {
      "needs_background": "light"
     },
     "output_type": "display_data"
    }
   ],
   "source": [
    "df['First_diff'].plot()"
   ]
  },
  {
   "cell_type": "code",
   "execution_count": 29,
   "id": "8bc4e675",
   "metadata": {},
   "outputs": [
    {
     "data": {
      "text/plain": [
       "(-7.1898964480510115,\n",
       " 2.5196204473869244e-10,\n",
       " 11,\n",
       " 92,\n",
       " {'1%': -3.503514579651927,\n",
       "  '5%': -2.893507960466837,\n",
       "  '10%': -2.583823615311909},\n",
       " 1466.826726291589)"
      ]
     },
     "execution_count": 29,
     "metadata": {},
     "output_type": "execute_result"
    }
   ],
   "source": [
    "ad2=adfuller(df['First_diff'].dropna())\n",
    "ad2"
   ]
  },
  {
   "cell_type": "code",
   "execution_count": 30,
   "id": "b096c6c8",
   "metadata": {},
   "outputs": [],
   "source": [
    "#here we see that P value is less than 0.05, hence accepting alternate hypothesis"
   ]
  },
  {
   "cell_type": "code",
   "execution_count": 31,
   "id": "c0b5ee62",
   "metadata": {},
   "outputs": [],
   "source": [
    "#estimate p, q & d\n",
    "#p stands for order of the AR model, e.g AR1, AR2, AR3 etc\n",
    "#q stands for order of moving average model, e.g-MA1, MA2, MA3 etc\n",
    "#d stands for order of difference, e.g- first order, second order\n"
   ]
  },
  {
   "cell_type": "code",
   "execution_count": 32,
   "id": "2144fc13",
   "metadata": {},
   "outputs": [],
   "source": [
    "#In order to find out above values we use ACF(Autocorrilation function), PACF(Partial Autocorrilation function)"
   ]
  },
  {
   "cell_type": "code",
   "execution_count": 33,
   "id": "4dece1af",
   "metadata": {},
   "outputs": [],
   "source": [
    "from statsmodels.graphics.tsaplots import plot_acf,plot_pacf"
   ]
  },
  {
   "cell_type": "code",
   "execution_count": 34,
   "id": "d17d1b07",
   "metadata": {},
   "outputs": [
    {
     "data": {
      "image/png": "[encoded data removed]",
      "text/plain": [
       "<Figure size 432x288 with 1 Axes>"
      ]
     },
     "execution_count": 34,
     "metadata": {},
     "output_type": "execute_result"
    },
    {
     "data": {
      "image/png": "[encoded data removed]",
      "text/plain": [
       "<Figure size 432x288 with 1 Axes>"
      ]
     },
     "metadata": {
      "needs_background": "light"
     },
     "output_type": "display_data"
    }
   ],
   "source": [
    "plot_acf(df['First_diff'].dropna())"
   ]
  },
  {
   "cell_type": "code",
   "execution_count": 35,
   "id": "cbb33e06",
   "metadata": {},
   "outputs": [],
   "source": [
    "# We consider ACF plot as best indication method to find out the q value(q value=1)"
   ]
  },
  {
   "cell_type": "code",
   "execution_count": 36,
   "id": "23cd9ef3",
   "metadata": {},
   "outputs": [
    {
     "name": "stderr",
     "output_type": "stream",
     "text": [
      "C:\\Users\\Admin\\anaconda3\\lib\\site-packages\\statsmodels\\graphics\\tsaplots.py:348: FutureWarning: The default method 'yw' can produce PACF values outside of the [-1,1] interval. After 0.13, the default will change tounadjusted Yule-Walker ('ywm'). You can use this method now by setting method='ywm'.\n",
      "  warnings.warn(\n"
     ]
    },
    {
     "data": {
      "image/png": "[encoded data removed]",
      "text/plain": [
       "<Figure size 432x288 with 1 Axes>"
      ]
     },
     "execution_count": 36,
     "metadata": {},
     "output_type": "execute_result"
    },
    {
     "data": {
      "image/png": "[encoded data removed]",
      "text/plain": [
       "<Figure size 432x288 with 1 Axes>"
      ]
     },
     "metadata": {
      "needs_background": "light"
     },
     "output_type": "display_data"
    }
   ],
   "source": [
    "plot_pacf(df['First_diff'].dropna())"
   ]
  },
  {
   "cell_type": "code",
   "execution_count": 37,
   "id": "a744e065",
   "metadata": {},
   "outputs": [],
   "source": [
    "# we consider pacf is best method  for indication p value"
   ]
  },
  {
   "cell_type": "code",
   "execution_count": 38,
   "id": "4ca43e17",
   "metadata": {},
   "outputs": [],
   "source": [
    "# fitting model"
   ]
  },
  {
   "cell_type": "code",
   "execution_count": 39,
   "id": "2fb331bc",
   "metadata": {},
   "outputs": [],
   "source": [
    "from statsmodels.tsa.arima.model import ARIMA"
   ]
  },
  {
   "cell_type": "code",
   "execution_count": 40,
   "id": "39224d70",
   "metadata": {},
   "outputs": [
    {
     "name": "stderr",
     "output_type": "stream",
     "text": [
      "C:\\Users\\Admin\\anaconda3\\lib\\site-packages\\statsmodels\\tsa\\base\\tsa_model.py:471: ValueWarning: No frequency information was provided, so inferred frequency MS will be used.\n",
      "  self._init_dates(dates, freq)\n",
      "C:\\Users\\Admin\\anaconda3\\lib\\site-packages\\statsmodels\\tsa\\base\\tsa_model.py:471: ValueWarning: No frequency information was provided, so inferred frequency MS will be used.\n",
      "  self._init_dates(dates, freq)\n",
      "C:\\Users\\Admin\\anaconda3\\lib\\site-packages\\statsmodels\\tsa\\base\\tsa_model.py:471: ValueWarning: No frequency information was provided, so inferred frequency MS will be used.\n",
      "  self._init_dates(dates, freq)\n"
     ]
    }
   ],
   "source": [
    "arima=ARIMA(df[\"Sale\"],order=(1,1,1))"
   ]
  },
  {
   "cell_type": "code",
   "execution_count": 41,
   "id": "085f636d",
   "metadata": {},
   "outputs": [],
   "source": [
    "arima=arima.fit()"
   ]
  },
  {
   "cell_type": "code",
   "execution_count": 42,
   "id": "e46328dc",
   "metadata": {},
   "outputs": [],
   "source": [
    "df[\"forecast\"]=arima.predict(start=95,end=120,dynamic=True)"
   ]
  },
  {
   "cell_type": "code",
   "execution_count": 43,
   "id": "0586c60a",
   "metadata": {},
   "outputs": [
    {
     "data": {
      "text/plain": [
       "<AxesSubplot:xlabel='Month'>"
      ]
     },
     "execution_count": 43,
     "metadata": {},
     "output_type": "execute_result"
    },
    {
     "data": {
      "image/png": "[encoded data removed]",
      "text/plain": [
       "<Figure size 432x288 with 1 Axes>"
      ]
     },
     "metadata": {
      "needs_background": "light"
     },
     "output_type": "display_data"
    }
   ],
   "source": [
    "df[[\"Sale\",\"forecast\"]].plot()"
   ]
  },
  {
   "cell_type": "code",
   "execution_count": 44,
   "id": "3d9e4fa8",
   "metadata": {},
   "outputs": [],
   "source": [
    "#  as the above model is not taking seasonality into consideration using sarimax"
   ]
  },
  {
   "cell_type": "code",
   "execution_count": 46,
   "id": "49d50fd0",
   "metadata": {},
   "outputs": [],
   "source": [
    "from statsmodels.tsa.statespace.sarimax import SARIMAX"
   ]
  },
  {
   "cell_type": "code",
   "execution_count": 49,
   "id": "c1511ce6",
   "metadata": {},
   "outputs": [
    {
     "name": "stderr",
     "output_type": "stream",
     "text": [
      "C:\\Users\\Admin\\anaconda3\\lib\\site-packages\\statsmodels\\tsa\\base\\tsa_model.py:471: ValueWarning: No frequency information was provided, so inferred frequency MS will be used.\n",
      "  self._init_dates(dates, freq)\n",
      "C:\\Users\\Admin\\anaconda3\\lib\\site-packages\\statsmodels\\tsa\\base\\tsa_model.py:471: ValueWarning: No frequency information was provided, so inferred frequency MS will be used.\n",
      "  self._init_dates(dates, freq)\n"
     ]
    }
   ],
   "source": [
    "sarimax = SARIMAX(df['Sale'],order= (1,1,1),seasonal_order= (1,1,1,12))"
   ]
  },
  {
   "cell_type": "code",
   "execution_count": 50,
   "id": "0afb8a07",
   "metadata": {},
   "outputs": [],
   "source": [
    "sarimax = sarimax.fit()"
   ]
  },
  {
   "cell_type": "code",
   "execution_count": 51,
   "id": "3d4c0474",
   "metadata": {},
   "outputs": [],
   "source": [
    "df['seasonal_forecast']=sarimax.predict(start = 95 ,end = 105 ,dynamic =True)"
   ]
  },
  {
   "cell_type": "code",
   "execution_count": 52,
   "id": "ed68cb61",
   "metadata": {},
   "outputs": [
    {
     "data": {
      "text/plain": [
       "<AxesSubplot:xlabel='Month'>"
      ]
     },
     "execution_count": 52,
     "metadata": {},
     "output_type": "execute_result"
    },
    {
     "data": {
      "image/png": "[encoded data removed]",
      "text/plain": [
       "<Figure size 432x288 with 1 Axes>"
      ]
     },
     "metadata": {
      "needs_background": "light"
     },
     "output_type": "display_data"
    }
   ],
   "source": [
    "df[['Sale','seasonal_forecast']].plot()"
   ]
  },
  {
   "cell_type": "code",
   "execution_count": 53,
   "id": "1f61d1ba",
   "metadata": {},
   "outputs": [],
   "source": [
    "#future predictions"
   ]
  },
  {
   "cell_type": "code",
   "execution_count": 54,
   "id": "87de72d9",
   "metadata": {},
   "outputs": [
    {
     "data": {
      "text/plain": [
       "Timestamp('1972-01-01 00:00:00')"
      ]
     },
     "execution_count": 54,
     "metadata": {},
     "output_type": "execute_result"
    }
   ],
   "source": [
    "df.index[-9]"
   ]
  },
  {
   "cell_type": "code",
   "execution_count": 55,
   "id": "8eee787a",
   "metadata": {},
   "outputs": [],
   "source": [
    "future_days = [df.index[-9]+pd.tseries.offsets.DateOffset(month =x)for x  in range(13)]"
   ]
  },
  {
   "cell_type": "code",
   "execution_count": 56,
   "id": "54b8805e",
   "metadata": {},
   "outputs": [
    {
     "data": {
      "text/plain": [
       "[Timestamp('1972-10-01 00:00:00'),\n",
       " Timestamp('1972-11-01 00:00:00'),\n",
       " Timestamp('1972-12-01 00:00:00')]"
      ]
     },
     "execution_count": 56,
     "metadata": {},
     "output_type": "execute_result"
    }
   ],
   "source": [
    "future_days[10:]"
   ]
  },
  {
   "cell_type": "code",
   "execution_count": 57,
   "id": "a8e2cd63",
   "metadata": {},
   "outputs": [],
   "source": [
    "new_df = pd.DataFrame(index = future_days[10:],columns =df.columns)"
   ]
  },
  {
   "cell_type": "code",
   "execution_count": 58,
   "id": "1741569e",
   "metadata": {},
   "outputs": [
    {
     "data": {
      "text/html": [
       "<div>\n",
       "<style scoped>\n",
       "    .dataframe tbody tr th:only-of-type {\n",
       "        vertical-align: middle;\n",
       "    }\n",
       "\n",
       "    .dataframe tbody tr th {\n",
       "        vertical-align: top;\n",
       "    }\n",
       "\n",
       "    .dataframe thead th {\n",
       "        text-align: right;\n",
       "    }\n",
       "</style>\n",
       "<table border=\"1\" class=\"dataframe\">\n",
       "  <thead>\n",
       "    <tr style=\"text-align: right;\">\n",
       "      <th></th>\n",
       "      <th>Sale</th>\n",
       "      <th>First_diff</th>\n",
       "      <th>forecast</th>\n",
       "      <th>seasonal_forecast</th>\n",
       "    </tr>\n",
       "  </thead>\n",
       "  <tbody>\n",
       "    <tr>\n",
       "      <th>1972-10-01</th>\n",
       "      <td>NaN</td>\n",
       "      <td>NaN</td>\n",
       "      <td>NaN</td>\n",
       "      <td>NaN</td>\n",
       "    </tr>\n",
       "    <tr>\n",
       "      <th>1972-11-01</th>\n",
       "      <td>NaN</td>\n",
       "      <td>NaN</td>\n",
       "      <td>NaN</td>\n",
       "      <td>NaN</td>\n",
       "    </tr>\n",
       "    <tr>\n",
       "      <th>1972-12-01</th>\n",
       "      <td>NaN</td>\n",
       "      <td>NaN</td>\n",
       "      <td>NaN</td>\n",
       "      <td>NaN</td>\n",
       "    </tr>\n",
       "  </tbody>\n",
       "</table>\n",
       "</div>"
      ],
      "text/plain": [
       "           Sale First_diff forecast seasonal_forecast\n",
       "1972-10-01  NaN        NaN      NaN               NaN\n",
       "1972-11-01  NaN        NaN      NaN               NaN\n",
       "1972-12-01  NaN        NaN      NaN               NaN"
      ]
     },
     "execution_count": 58,
     "metadata": {},
     "output_type": "execute_result"
    }
   ],
   "source": [
    "new_df"
   ]
  },
  {
   "cell_type": "code",
   "execution_count": 59,
   "id": "06e42c1b",
   "metadata": {},
   "outputs": [],
   "source": [
    "new_df =  pd.concat([df,new_df])"
   ]
  },
  {
   "cell_type": "code",
   "execution_count": 60,
   "id": "1d4deacf",
   "metadata": {},
   "outputs": [
    {
     "data": {
      "text/html": [
       "<div>\n",
       "<style scoped>\n",
       "    .dataframe tbody tr th:only-of-type {\n",
       "        vertical-align: middle;\n",
       "    }\n",
       "\n",
       "    .dataframe tbody tr th {\n",
       "        vertical-align: top;\n",
       "    }\n",
       "\n",
       "    .dataframe thead th {\n",
       "        text-align: right;\n",
       "    }\n",
       "</style>\n",
       "<table border=\"1\" class=\"dataframe\">\n",
       "  <thead>\n",
       "    <tr style=\"text-align: right;\">\n",
       "      <th></th>\n",
       "      <th>Sale</th>\n",
       "      <th>First_diff</th>\n",
       "      <th>forecast</th>\n",
       "      <th>seasonal_forecast</th>\n",
       "    </tr>\n",
       "  </thead>\n",
       "  <tbody>\n",
       "    <tr>\n",
       "      <th>1972-08-01</th>\n",
       "      <td>1413</td>\n",
       "      <td>2885.0</td>\n",
       "      <td>5340.054511</td>\n",
       "      <td>1911.734534</td>\n",
       "    </tr>\n",
       "    <tr>\n",
       "      <th>1972-09-01</th>\n",
       "      <td>5877</td>\n",
       "      <td>-4464.0</td>\n",
       "      <td>5338.016591</td>\n",
       "      <td>6037.407299</td>\n",
       "    </tr>\n",
       "    <tr>\n",
       "      <th>1972-10-01</th>\n",
       "      <td>NaN</td>\n",
       "      <td>NaN</td>\n",
       "      <td>NaN</td>\n",
       "      <td>NaN</td>\n",
       "    </tr>\n",
       "    <tr>\n",
       "      <th>1972-11-01</th>\n",
       "      <td>NaN</td>\n",
       "      <td>NaN</td>\n",
       "      <td>NaN</td>\n",
       "      <td>NaN</td>\n",
       "    </tr>\n",
       "    <tr>\n",
       "      <th>1972-12-01</th>\n",
       "      <td>NaN</td>\n",
       "      <td>NaN</td>\n",
       "      <td>NaN</td>\n",
       "      <td>NaN</td>\n",
       "    </tr>\n",
       "  </tbody>\n",
       "</table>\n",
       "</div>"
      ],
      "text/plain": [
       "            Sale First_diff     forecast seasonal_forecast\n",
       "1972-08-01  1413     2885.0  5340.054511       1911.734534\n",
       "1972-09-01  5877    -4464.0  5338.016591       6037.407299\n",
       "1972-10-01   NaN        NaN          NaN               NaN\n",
       "1972-11-01   NaN        NaN          NaN               NaN\n",
       "1972-12-01   NaN        NaN          NaN               NaN"
      ]
     },
     "execution_count": 60,
     "metadata": {},
     "output_type": "execute_result"
    }
   ],
   "source": [
    "new_df.tail()"
   ]
  },
  {
   "cell_type": "code",
   "execution_count": 61,
   "id": "c6e2823f",
   "metadata": {},
   "outputs": [],
   "source": [
    "new_df['seasonal_forecast']=sarimax.predict(start = 105 ,end = 110 ,dynamic =True)"
   ]
  },
  {
   "cell_type": "code",
   "execution_count": 62,
   "id": "1818b583",
   "metadata": {},
   "outputs": [
    {
     "data": {
      "text/html": [
       "<div>\n",
       "<style scoped>\n",
       "    .dataframe tbody tr th:only-of-type {\n",
       "        vertical-align: middle;\n",
       "    }\n",
       "\n",
       "    .dataframe tbody tr th {\n",
       "        vertical-align: top;\n",
       "    }\n",
       "\n",
       "    .dataframe thead th {\n",
       "        text-align: right;\n",
       "    }\n",
       "</style>\n",
       "<table border=\"1\" class=\"dataframe\">\n",
       "  <thead>\n",
       "    <tr style=\"text-align: right;\">\n",
       "      <th></th>\n",
       "      <th>Sale</th>\n",
       "      <th>First_diff</th>\n",
       "      <th>forecast</th>\n",
       "      <th>seasonal_forecast</th>\n",
       "    </tr>\n",
       "  </thead>\n",
       "  <tbody>\n",
       "    <tr>\n",
       "      <th>1972-08-01</th>\n",
       "      <td>1413</td>\n",
       "      <td>2885.0</td>\n",
       "      <td>5340.054511</td>\n",
       "      <td>NaN</td>\n",
       "    </tr>\n",
       "    <tr>\n",
       "      <th>1972-09-01</th>\n",
       "      <td>5877</td>\n",
       "      <td>-4464.0</td>\n",
       "      <td>5338.016591</td>\n",
       "      <td>NaN</td>\n",
       "    </tr>\n",
       "    <tr>\n",
       "      <th>1972-10-01</th>\n",
       "      <td>NaN</td>\n",
       "      <td>NaN</td>\n",
       "      <td>NaN</td>\n",
       "      <td>7023.698974</td>\n",
       "    </tr>\n",
       "    <tr>\n",
       "      <th>1972-11-01</th>\n",
       "      <td>NaN</td>\n",
       "      <td>NaN</td>\n",
       "      <td>NaN</td>\n",
       "      <td>9996.175696</td>\n",
       "    </tr>\n",
       "    <tr>\n",
       "      <th>1972-12-01</th>\n",
       "      <td>NaN</td>\n",
       "      <td>NaN</td>\n",
       "      <td>NaN</td>\n",
       "      <td>12891.997832</td>\n",
       "    </tr>\n",
       "  </tbody>\n",
       "</table>\n",
       "</div>"
      ],
      "text/plain": [
       "            Sale First_diff     forecast  seasonal_forecast\n",
       "1972-08-01  1413     2885.0  5340.054511                NaN\n",
       "1972-09-01  5877    -4464.0  5338.016591                NaN\n",
       "1972-10-01   NaN        NaN          NaN        7023.698974\n",
       "1972-11-01   NaN        NaN          NaN        9996.175696\n",
       "1972-12-01   NaN        NaN          NaN       12891.997832"
      ]
     },
     "execution_count": 62,
     "metadata": {},
     "output_type": "execute_result"
    }
   ],
   "source": [
    "new_df.tail()"
   ]
  },
  {
   "cell_type": "code",
   "execution_count": null,
   "id": "4a8438a5",
   "metadata": {},
   "outputs": [],
   "source": []
  }
 ],
 "metadata": {
  "kernelspec": {
   "display_name": "Python 3 (ipykernel)",
   "language": "python",
   "name": "python3"
  },
  "language_info": {
   "codemirror_mode": {
    "name": "ipython",
    "version": 3
   },
   "file_extension": ".py",
   "mimetype": "text/x-python",
   "name": "python",
   "nbconvert_exporter": "python",
   "pygments_lexer": "ipython3",
   "version": "3.9.12"
  }
 },
 "nbformat": 4,
 "nbformat_minor": 5
}
